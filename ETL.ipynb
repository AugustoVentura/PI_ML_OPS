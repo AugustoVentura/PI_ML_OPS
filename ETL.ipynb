{
 "cells": [
  {
   "attachments": {},
   "cell_type": "markdown",
   "metadata": {},
   "source": [
    "# ETL PI MLOps"
   ]
  },
  {
   "cell_type": "code",
   "execution_count": null,
   "metadata": {},
   "outputs": [],
   "source": [
    "# Se importan las librerias a usar \n",
    "import pandas as pd\n",
    "import numpy as np"
   ]
  },
  {
   "cell_type": "code",
   "execution_count": null,
   "metadata": {},
   "outputs": [],
   "source": [
    "# Se crea el dataset, a partir de los csv\n",
    "df_peliculas = pd.read_csv('movies_dataset.csv')\n",
    "df_creditos = pd.read_csv('credits.csv')"
   ]
  },
  {
   "attachments": {},
   "cell_type": "markdown",
   "metadata": {},
   "source": [
    "# Transformación"
   ]
  },
  {
   "attachments": {},
   "cell_type": "markdown",
   "metadata": {},
   "source": [
    "1.- Algunos campos, como belongs_to_collection, production_companies y otros (ver diccionario de datos) están anidados, esto es o bien tienen un diccionario o una lista como valores en cada fila, ¡deberán desanidarlos para poder y unirlos al dataset de nuevo hacer alguna de las consultas de la API! O bien buscar la manera de acceder a esos datos sin desanidarlos."
   ]
  },
  {
   "cell_type": "code",
   "execution_count": null,
   "metadata": {},
   "outputs": [],
   "source": [
    "# Desanidamos belongs to collection\n",
    "# Se rellenar valores vacios para poder trabajar mejor\n",
    "df_peliculas['belongs_to_collection'] = df_peliculas['belongs_to_collection'].fillna('{}')\n",
    "df_peliculas.reset_index(drop=True, inplace=True) \n",
    "# Se estructura y organizan los datos desanidados\n",
    "df_collection = pd.json_normalize(df_peliculas['belongs_to_collection'].map(eval))\n",
    "\n",
    "# Renombramos la columna 'name' como 'belongs_to_collection'\n",
    "df_collection.rename(columns={'name': 'belongs_to_collection'}, inplace=True)\n",
    "\n",
    "# Obtenemos solo la columna belongs_to_collection\n",
    "df_collection = df_collection['belongs_to_collection'].copy()\n",
    "\n",
    "# Visualimos el nuevo DataFrame\n",
    "df_collection"
   ]
  },
  {
   "cell_type": "code",
   "execution_count": null,
   "metadata": {},
   "outputs": [],
   "source": [
    "# Desanidamos genres\n",
    "# Se estructura y organizan los datos desanidados\n",
    "df_genres = pd.json_normalize(df_peliculas['genres'].map(eval))\n",
    "\n",
    "# Se obtiene la columna de genres a partir de los datos de name\n",
    "df_genres['genres'] = df_genres.apply(lambda x: ','.join([genre['name'] for genre in x if pd.notna(genre)]), axis=1)\n",
    "\n",
    "# Se crea un nuevo DataFrame solo con la columna de genres\n",
    "df_genres = df_genres[['genres']].copy()\n",
    "\n",
    "# Visualizamos el nuevo DataFrame\n",
    "df_genres"
   ]
  },
  {
   "cell_type": "code",
   "execution_count": null,
   "metadata": {},
   "outputs": [],
   "source": [
    "# Desanidamos production companies\n",
    "# Se estructura y organizan los datos desanidados\n",
    "df_companies = pd.json_normalize(df_peliculas['production_companies'].map(eval))\n",
    "\n",
    "# Se obtiene la columna de production countries\n",
    "df_companies['production_companies'] = df_companies.apply(lambda x: ','.join([country['name'] for country in x if pd.notna(country)]), axis=1)\n",
    "\n",
    "# Se crea un nuevo DataFrame solo con la columna\n",
    "df_companies = df_companies[['production_companies']].copy()\n",
    "\n",
    "# Visualizamos el nuevo DataFrame\n",
    "df_companies"
   ]
  },
  {
   "cell_type": "code",
   "execution_count": null,
   "metadata": {},
   "outputs": [],
   "source": [
    "# Desanidamos production countries\n",
    "# Se estructura y organizan los datos desanidados\n",
    "df_countries = pd.json_normalize(df_peliculas['production_countries'].map(eval))\n",
    "\n",
    "# Se obtiene la columna de production countries\n",
    "df_countries['production_countries'] = df_countries.apply(lambda x: ','.join([country['name'] for country in x if pd.notna(country)]), axis=1)\n",
    "\n",
    "# Se crea un nuevo DataFrame solo con la columna\n",
    "df_countries = df_countries[['production_countries']].copy()\n",
    "\n",
    "# Visualizamos el nuevo DataFrame\n",
    "df_countries"
   ]
  },
  {
   "cell_type": "code",
   "execution_count": null,
   "metadata": {},
   "outputs": [],
   "source": [
    "# Desanidamos spoken languages\n",
    "# Se estructura y organizan los datos desanidados\n",
    "df_languages = pd.json_normalize(df_peliculas['spoken_languages'].map(eval))\n",
    "\n",
    "# Se obtiene la columna de spoken languages\n",
    "df_languages['spoken_languages'] = df_languages.apply(lambda x: ','.join([country['name'] for country in x if pd.notna(country)]), axis=1)\n",
    "\n",
    "# Se crea un nuevo DataFrame solo con la columna\n",
    "df_languages = df_languages[['spoken_languages']].copy()\n",
    "\n",
    "# Visualizamos el nuevo DataFrame\n",
    "df_languages"
   ]
  },
  {
   "cell_type": "code",
   "execution_count": null,
   "metadata": {},
   "outputs": [],
   "source": [
    "# Eliminamos las columnas anidadas, para posterior sustituirlas por las mismas columnas ya desanidadas\n",
    "df_peliculas = df_peliculas.drop(columns=['belongs_to_collection','spoken_languages', 'production_countries', 'genres', 'production_companies'])\n",
    "df_completo = pd.concat([df_peliculas, df_collection, df_genres, df_companies, df_countries, df_languages], axis=1)\n",
    "df_completo"
   ]
  },
  {
   "attachments": {},
   "cell_type": "markdown",
   "metadata": {},
   "source": [
    "2.- Los valores nulos de los campos revenue, budget deben ser rellenados por el número 0."
   ]
  },
  {
   "cell_type": "code",
   "execution_count": null,
   "metadata": {},
   "outputs": [],
   "source": [
    "# Se rellenan los valores nulos\n",
    "df_completo['budget'] = df_completo['budget'].fillna(0)\n",
    "df_completo['revenue'] = df_completo['revenue'].fillna(0)"
   ]
  },
  {
   "attachments": {},
   "cell_type": "markdown",
   "metadata": {},
   "source": [
    "3.- Los valores nulos del campo release date deben eliminarse."
   ]
  },
  {
   "cell_type": "code",
   "execution_count": null,
   "metadata": {},
   "outputs": [],
   "source": [
    "# Contamos los datos nulos en release date\n",
    "df_completo['release_date'].isnull().sum()"
   ]
  },
  {
   "cell_type": "code",
   "execution_count": null,
   "metadata": {},
   "outputs": [],
   "source": [
    "# Eliminamos los datos nulos y contamos nuevamente para asegurarnos que fueron eliminados\n",
    "df_completo = df_completo.dropna(subset=['release_date'])\n",
    "df_completo['release_date'].isnull().sum()"
   ]
  },
  {
   "attachments": {},
   "cell_type": "markdown",
   "metadata": {},
   "source": [
    "4.- De haber fechas, deberán tener el formato AAAA-mm-dd, además deberán crear la columna release_year donde extraerán el año de la fecha de estreno."
   ]
  },
  {
   "cell_type": "code",
   "execution_count": null,
   "metadata": {},
   "outputs": [],
   "source": [
    "# Se convierte la columna de fechas a tipo datetime\n",
    "df_completo['release_date'] = pd.to_datetime(df_completo['release_date'], errors='coerce')\n",
    "\n",
    "# Se extrae el año de la fecha de lanzamiento\n",
    "df_completo['release_year'] = df_completo['release_date'].dt.year\n",
    "\n",
    "# Verificamos que se haya agregado correctamente\n",
    "df_completo"
   ]
  },
  {
   "attachments": {},
   "cell_type": "markdown",
   "metadata": {},
   "source": [
    "5.- Crear la columna con el retorno de inversión, llamada return con los campos revenue y budget, dividiendo estas dos últimas revenue / budget, cuando no hay datos disponibles para calcularlo, deberá tomar el valor 0."
   ]
  },
  {
   "cell_type": "code",
   "execution_count": null,
   "metadata": {},
   "outputs": [],
   "source": [
    "# Se convierten las columnas 'revenue' y 'budget' a tipo numérico\n",
    "df_completo['revenue'] = pd.to_numeric(df_completo['revenue'], errors='coerce')\n",
    "df_completo['budget'] = pd.to_numeric(df_completo['budget'], errors='coerce')\n",
    "\n",
    "# Se crea la columna 'return' y se calcula el retorno de inversión\n",
    "df_completo['return'] = df_completo['revenue'].div(df_completo['budget'], fill_value=0)\n",
    "\n",
    "# Se establece 0 en los casos donde budget sea 0 o haya valores faltantes en revenue o budget\n",
    "faltantes = (df_completo['budget'] == 0) | (df_completo[['revenue', 'budget']].isnull().any(axis=1))\n",
    "df_completo.loc[faltantes, 'return'] = 0\n",
    "\n",
    "# Se visualiza para asegurarse que los datos estan correctos\n",
    "df_completo"
   ]
  },
  {
   "attachments": {},
   "cell_type": "markdown",
   "metadata": {},
   "source": [
    "6.- Eliminar las columnas que no serán utilizadas, video,imdb_id,adult,original_title,poster_path y homepage."
   ]
  },
  {
   "cell_type": "code",
   "execution_count": null,
   "metadata": {},
   "outputs": [],
   "source": [
    "# Se eliminan las columnas solicitadas\n",
    "df_completo = df_completo.drop(columns = ['video','imdb_id','adult','original_title','poster_path','homepage'])\n",
    "\n",
    "# Se comprueba que ya no esten\n",
    "df_completo.info() "
   ]
  },
  {
   "cell_type": "code",
   "execution_count": null,
   "metadata": {},
   "outputs": [],
   "source": [
    "df_completo.to_csv('datos_completos.csv', index=False)"
   ]
  }
 ],
 "metadata": {
  "kernelspec": {
   "display_name": "Python 3",
   "language": "python",
   "name": "python3"
  },
  "language_info": {
   "codemirror_mode": {
    "name": "ipython",
    "version": 3
   },
   "file_extension": ".py",
   "mimetype": "text/x-python",
   "name": "python",
   "nbconvert_exporter": "python",
   "pygments_lexer": "ipython3",
   "version": "3.9.6"
  },
  "orig_nbformat": 4
 },
 "nbformat": 4,
 "nbformat_minor": 2
}
